{
 "cells": [
  {
   "cell_type": "markdown",
   "id": "78c4db03",
   "metadata": {},
   "source": [
    "### Basic Statistical Tests in Python\n",
    "This notebook provides a curosry overview of which tests to choose for which data and how to implement them in Python"
   ]
  },
  {
   "cell_type": "markdown",
   "id": "9e208d4c",
   "metadata": {},
   "source": [
    "#### Decision Trees for Selecting Statistical Tests\n",
    "1. Type of Data\n",
    "    - **Categorical Data** (i.e. rating scale, gender, etc.)\n",
    "        - Two variables: Chi-Square Test\n",
    "        - More than two variables: Logistic Regression\n",
    "    - **Numerical Data**\n",
    "        - Compare means of two groups: t-test\n",
    "            - Paired: Paired t-test\n",
    "            - Independent: Independent t-test\n",
    "        - Compare means of more than two groups: ANOVA\n",
    "        - Compare medians: Kruskal-Wallis Test or Mann-Whitney U Test\n",
    "-----\n",
    "2. Sample Size and Distribution\n",
    "    - **Small sample size or non-normal distribution**: Non-parametric tests (e.g., Mann-Whitney U Test, Wilcoxon Signed-Rank Test)\n",
    "    - **Large sample size and normal distribution**: Parametric tests (e.g., t-tests, ANOVA)\n",
    "------    \n",
    "3. Relationship Between Variables\n",
    "    - **Correlation between two variables**: Pearson or Spearman Correlation\n",
    "    - **Predicting a variable from other variables**: Regression Analysis\n",
    "        - Linear Regression: For continuous outcome variables\n",
    "        - Logistic Regression: For categorical outcome variables"
   ]
  },
  {
   "cell_type": "code",
   "execution_count": null,
   "id": "b0712855",
   "metadata": {},
   "outputs": [],
   "source": [
    "import pandas as pd\n",
    "import seaborn as sns\n",
    "\n",
    "# Load Titanic dataset\n",
    "titanic = sns.load_dataset('titanic')\n",
    "\n",
    "# Load Iris dataset\n",
    "iris = sns.load_dataset('iris')"
   ]
  },
  {
   "cell_type": "markdown",
   "id": "49b63b3d",
   "metadata": {},
   "source": [
    "### Chi-Square Test\n",
    "**Use when**: comparing two categorical variables\n",
    "<br>**Objective**: Test if there is a significant association between two categorical variables, e.g., 'Sex' and 'Survived'.\n",
    "<br>**Interpretation**: A low p-value (typically < 0.05) indicates a significant association between the variables."
   ]
  },
  {
   "cell_type": "code",
   "execution_count": 20,
   "id": "796ccbd0",
   "metadata": {},
   "outputs": [
    {
     "name": "stdout",
     "output_type": "stream",
     "text": [
      "Chi-Square Statistic: 260.71702016732104, P-value: < 0.001\n"
     ]
    }
   ],
   "source": [
    "from scipy.stats import chi2_contingency\n",
    "\n",
    "# Create a contingency table\n",
    "contingency_table = pd.crosstab(titanic['sex'], titanic['survived'])\n",
    "\n",
    "# Perform Chi-Square Test\n",
    "# chi2 = Chi-square value\n",
    "# p = p-value\n",
    "# dof = degrees of freedom\n",
    "# expected = expected frequencies of each cell in the table if the null hypothesis is true\n",
    "chi2, p, dof, expected = chi2_contingency(contingency_table)\n",
    "\n",
    "#Format p value not be scientific notation\n",
    "if p < 0.001:\n",
    "    formatted_p = \"< 0.001\"\n",
    "else:\n",
    "    formatted_p = format(p, '.5f')\n",
    "\n",
    "print(f\"Chi-Square Statistic: {chi2}, P-value: {formatted_p}\")"
   ]
  },
  {
   "cell_type": "markdown",
   "id": "f4952d27",
   "metadata": {},
   "source": [
    "### t-Test\n",
    "**Use when**: comparing the means of two groups of numeric data with large sample size and normal distribution\n",
    "<br>**Objective**: Test if there is a significant association between two numeric variables\n",
    "<br>**Interpretation**: A p-value less than 0.05 typically indicates a statistically significant difference in the means."
   ]
  },
  {
   "cell_type": "code",
   "execution_count": 18,
   "id": "d5fe1e58",
   "metadata": {},
   "outputs": [
    {
     "name": "stdout",
     "output_type": "stream",
     "text": [
      "T-statistic: -2.06668694625381, P-value: 0.03912\n"
     ]
    }
   ],
   "source": [
    "from scipy.stats import ttest_ind\n",
    "\n",
    "# Remove NaN values from 'age' column\n",
    "titanic = titanic.dropna(subset=['age'])\n",
    "\n",
    "# Split data into two groups\n",
    "group1 = titanic[titanic['survived'] == 1]['age']\n",
    "group2 = titanic[titanic['survived'] == 0]['age']\n",
    "\n",
    "# Perform Independent t-test\n",
    "t_stat, p = ttest_ind(group1, group2)\n",
    "\n",
    "\n",
    "#Format p value not be scientific notation\n",
    "if p < 0.001:\n",
    "    formatted_p = \"< 0.001\"\n",
    "else:\n",
    "    formatted_p = format(p, '.5f')\n",
    "\n",
    "\n",
    "print(f\"T-statistic: {t_stat}, P-value: {formatted_p}\")"
   ]
  },
  {
   "cell_type": "markdown",
   "id": "1c620848",
   "metadata": {},
   "source": [
    "### ANOVA\n",
    "**Use when**: comparing the means of two OR MORE groups of numeric data with large sample size and normal distribution\n",
    "<br>**Objective**: Test if there is a significant association between two or more numeric variables\n",
    "<br>**Interpretation**: A p-value less than 0.05 typically indicates one variable has a statistically significant difference in the means."
   ]
  },
  {
   "cell_type": "code",
   "execution_count": 17,
   "id": "5e591b09",
   "metadata": {},
   "outputs": [
    {
     "name": "stdout",
     "output_type": "stream",
     "text": [
      "F-statistic: 119.26450218450468, P-value: < 0.001\n"
     ]
    }
   ],
   "source": [
    "from scipy.stats import f_oneway\n",
    "\n",
    "# Split the data into groups\n",
    "group1 = iris[iris['species'] == 'setosa']['sepal_length']\n",
    "group2 = iris[iris['species'] == 'versicolor']['sepal_length']\n",
    "group3 = iris[iris['species'] == 'virginica']['sepal_length']\n",
    "\n",
    "# Perform ANOVA\n",
    "f_stat, p = f_oneway(group1, group2, group3)\n",
    "\n",
    "#Format p value not be scientific notation\n",
    "if p < 0.001:\n",
    "    formatted_p = \"< 0.001\"\n",
    "else:\n",
    "    formatted_p = format(p, '.5f')\n",
    "\n",
    "print(f\"F-statistic: {f_stat}, P-value: {formatted_p}\")"
   ]
  },
  {
   "cell_type": "markdown",
   "id": "16276cf5",
   "metadata": {},
   "source": [
    "### Kruskal-Wallis Test\n",
    "**Use when**: comparing the MEDIANS of two groups of numeric data\n",
    "<br>**Objective**: Test if there is a significant association between two numeric variables\n",
    "<br>**Interpretation**: A p-value less than 0.05 typically indicates a statistically significant difference in the medians."
   ]
  },
  {
   "cell_type": "code",
   "execution_count": 13,
   "id": "732c20ab",
   "metadata": {},
   "outputs": [
    {
     "name": "stdout",
     "output_type": "stream",
     "text": [
      "Statistic: 130.41104857977163, P-value: < 0.001\n"
     ]
    }
   ],
   "source": [
    "from scipy.stats import kruskal\n",
    "\n",
    "# Split the data into groups\n",
    "group1 = iris[iris['species'] == 'setosa']['petal_length']\n",
    "group2 = iris[iris['species'] == 'versicolor']['petal_length']\n",
    "group3 = iris[iris['species'] == 'virginica']['petal_length']\n",
    "\n",
    "# Perform Kruskal-Wallis Test\n",
    "stat, p = kruskal(group1, group2, group3)\n",
    "\n",
    "#Format p value not be scientific notation\n",
    "if p < 0.001:\n",
    "    formatted_p = \"< 0.001\"\n",
    "else:\n",
    "    formatted_p = format(p, '.5f')\n",
    "\n",
    "print(f\"Statistic: {stat}, P-value: {formatted_p}\")\n"
   ]
  },
  {
   "cell_type": "markdown",
   "id": "44c704ee",
   "metadata": {},
   "source": [
    "### Pearson Correlation\n",
    "**Use when**: Exploring the relationship between two variables how their impact on each other\n",
    "<br>**Objective**: Examine the correlation between two variables\n",
    "<br>**Interpretation**: The correlation coefficient indicates the strength and direction of the relationship, 0 being no relationship, while the p-value tests its significance."
   ]
  },
  {
   "cell_type": "code",
   "execution_count": 21,
   "id": "5e8ceaae",
   "metadata": {},
   "outputs": [
    {
     "name": "stdout",
     "output_type": "stream",
     "text": [
      "Pearson correlation: -0.11756978413300204, P-value: 0.15190\n"
     ]
    }
   ],
   "source": [
    "from scipy.stats import pearsonr\n",
    "\n",
    "# Perform Pearson Correlation\n",
    "corr, p = pearsonr(iris['sepal_length'], iris['sepal_width'])\n",
    "\n",
    "#Format p value not be scientific notation\n",
    "if p < 0.001:\n",
    "    formatted_p = \"< 0.001\"\n",
    "else:\n",
    "    formatted_p = format(p, '.5f')\n",
    "\n",
    "print(f\"Pearson correlation: {corr}, P-value: {formatted_p}\")\n"
   ]
  },
  {
   "cell_type": "markdown",
   "id": "6d7639a2",
   "metadata": {},
   "source": [
    "### Linear Regression\n",
    "**Use when**: predicting a variable based on another variable for continuous variables\n",
    "<br>**Objective**: Predict one variable based on another\n",
    "<br>**Interpretation**: The coefficient shows the change in a variable for each unit increase in the other variable."
   ]
  },
  {
   "cell_type": "code",
   "execution_count": 22,
   "id": "0eb2af0d",
   "metadata": {},
   "outputs": [
    {
     "name": "stdout",
     "output_type": "stream",
     "text": [
      "Coefficient: [-0.0618848], Intercept: 3.418946836103816\n"
     ]
    }
   ],
   "source": [
    "from sklearn.linear_model import LinearRegression\n",
    "import numpy as np\n",
    "\n",
    "# Prepare data\n",
    "X = iris['sepal_length'].values.reshape(-1, 1)\n",
    "y = iris['sepal_width']\n",
    "\n",
    "# Fit linear regression model\n",
    "model = LinearRegression()\n",
    "model.fit(X, y)\n",
    "\n",
    "# Display coefficients\n",
    "print(f\"Coefficient: {model.coef_}, Intercept: {model.intercept_}\")\n"
   ]
  },
  {
   "cell_type": "markdown",
   "id": "5482643a",
   "metadata": {},
   "source": [
    "### Logistic Regression\n",
    "**Use when**: predicting a variable based on another variable for categorical variables\n",
    "<br>**Objective**: Predict one variable based on another\n",
    "<br>**Interpretation**: The coefficient shows the change in a variable for each unit increase in the other variable."
   ]
  },
  {
   "cell_type": "code",
   "execution_count": 23,
   "id": "cd68fb6e",
   "metadata": {},
   "outputs": [
    {
     "name": "stdout",
     "output_type": "stream",
     "text": [
      "Coefficients: [[-0.04149665 -1.22653571]]\n",
      "Intercept: [3.532956]\n",
      "Predicted Survival: 1\n"
     ]
    }
   ],
   "source": [
    "from sklearn.linear_model import LogisticRegression\n",
    "\n",
    "# Drop rows with missing values in 'age' and 'pclass'\n",
    "titanic = titanic.dropna(subset=['age', 'pclass'])\n",
    "\n",
    "# Select features and target\n",
    "X = titanic[['age', 'pclass']]  # Features: Age and Passenger Class\n",
    "y = titanic['survived']         # Target: Survival\n",
    "\n",
    "# Create and train the logistic regression model\n",
    "model = LogisticRegression()\n",
    "model.fit(X, y)\n",
    "\n",
    "# Output the model's coefficients and intercept\n",
    "print(f\"Coefficients: {model.coef_}\")\n",
    "print(f\"Intercept: {model.intercept_}\")\n",
    "\n",
    "# To make a prediction, use model.predict() with appropriate input\n",
    "# For example, predicting for a 30-year-old passenger in 1st class\n",
    "sample_data = pd.DataFrame({'age': [30], 'pclass': [1]})\n",
    "prediction = model.predict(sample_data)\n",
    "print(f\"Predicted Survival: {prediction[0]}\")  # 0 for not survived, 1 for survived\n",
    "\n"
   ]
  }
 ],
 "metadata": {
  "kernelspec": {
   "display_name": "Python 3 (ipykernel)",
   "language": "python",
   "name": "python3"
  },
  "language_info": {
   "codemirror_mode": {
    "name": "ipython",
    "version": 3
   },
   "file_extension": ".py",
   "mimetype": "text/x-python",
   "name": "python",
   "nbconvert_exporter": "python",
   "pygments_lexer": "ipython3",
   "version": "3.9.13"
  }
 },
 "nbformat": 4,
 "nbformat_minor": 5
}

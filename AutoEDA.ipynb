{
 "cells": [
  {
   "cell_type": "markdown",
   "id": "af3a7406",
   "metadata": {},
   "source": [
    "# Auto EDA\n",
    "The decision to use auto EDA depends on:\n",
    "- specific needs of the project\n",
    "- size and complexity of the dataset\n",
    "- expertise of the user\n",
    "\n",
    "**Auto EDA** tools offer a quick and efficient way to get a broad overview of the data.\n",
    "<br> **Manual EDA** allows for more nuanaced and detailed analysis."
   ]
  },
  {
   "cell_type": "code",
   "execution_count": null,
   "id": "f26d3330",
   "metadata": {},
   "outputs": [],
   "source": [
    "#import these packages to start\n",
    "import pandas as pd"
   ]
  },
  {
   "cell_type": "code",
   "execution_count": null,
   "id": "78889f96",
   "metadata": {},
   "outputs": [],
   "source": [
    "#import your data from XLSX or CSV\n",
    "data = pd.read_excel('your_dataset.xlsx') #xlsx\n",
    "data = pd.read_csv('your_dataset.csv') #csv\n",
    "\n",
    "#skip to DataPrep section for how to install a test dataset"
   ]
  },
  {
   "cell_type": "markdown",
   "id": "f7ed5ae9",
   "metadata": {},
   "source": [
    "### YData Profiling (Formerly Pandas Profiling)\n",
    "Pros:\n",
    "- Comprehensive EDA report with just a single line of code.\n",
    "- Provides correlations, missing value statistics, and a lot more.\n",
    "- Interactive and visually pleasing output.\n",
    "\n",
    "Cons:\n",
    "- Can be very slow for large datasets.\n",
    "- Might produce extremely large reports for wide datasets.\n",
    "\n",
    "Documentation: https://pypi.org/project/ydata-profiling/"
   ]
  },
  {
   "cell_type": "code",
   "execution_count": null,
   "id": "df06cd8d",
   "metadata": {},
   "outputs": [],
   "source": [
    "pip install ydata-profiling"
   ]
  },
  {
   "cell_type": "code",
   "execution_count": null,
   "id": "346a4cfa",
   "metadata": {},
   "outputs": [],
   "source": [
    "from ydata_profiling import ProfileReport\n",
    "\n",
    "profile = ProfileReport(data, title=\"Profiling Report\")\n",
    "profile.to_notebook_iframe() #display within notebook\n",
    "profile.to_file(\"your_report.html\") #send to html file"
   ]
  },
  {
   "cell_type": "markdown",
   "id": "5f0d4a38",
   "metadata": {},
   "source": [
    "### Sweetviz\n",
    "Pros:\n",
    "- Generates visually appealing reports.\n",
    "- Can compare two datasets (e.g., training vs testing).\n",
    "- Handles large datasets better than YData Profiling.\n",
    "\n",
    "Cons:\n",
    "- Less detailed than YData Profiling.\n",
    "\n",
    "Documentation: https://pypi.org/project/sweetviz/"
   ]
  },
  {
   "cell_type": "code",
   "execution_count": null,
   "id": "5f494bfb",
   "metadata": {},
   "outputs": [],
   "source": [
    "pip install sweetviz"
   ]
  },
  {
   "cell_type": "code",
   "execution_count": null,
   "id": "0cdca17e",
   "metadata": {},
   "outputs": [],
   "source": [
    "import sweetviz as sv\n",
    "\n",
    "report = sv.analyze(data)\n",
    "report.show_html('report.html') #will display in a seperate browser tab"
   ]
  },
  {
   "cell_type": "markdown",
   "id": "892edc81",
   "metadata": {},
   "source": [
    "### DataPrep\n",
    "Pros:\n",
    "- Fast for large datasets.\n",
    "- Interactive visualizations.\n",
    "- Provides data cleaning and collection modules along with EDA.\n",
    "\n",
    "Cons:\n",
    "- Task-centric design may not offer the flexibility needed for all EDA tasks.\n",
    "- The ease of use might come at the cost of detailed customization options.\n",
    "\n",
    "Documentation: https://pypi.org/project/dataprep/"
   ]
  },
  {
   "cell_type": "code",
   "execution_count": null,
   "id": "c21aa604",
   "metadata": {},
   "outputs": [],
   "source": [
    "pip install -U dataprep"
   ]
  },
  {
   "cell_type": "code",
   "execution_count": null,
   "id": "c5f999c7",
   "metadata": {},
   "outputs": [],
   "source": [
    "from dataprep.datasets import load_dataset #dataprep has a dataset repository you can test with\n",
    "from dataprep.eda import create_report\n",
    "\n",
    "data = load_dataset(\"titanic\")\n",
    "\n",
    "create_report(data).show_browser()"
   ]
  },
  {
   "cell_type": "markdown",
   "id": "a45f176b",
   "metadata": {},
   "source": [
    "### D-Tale\n",
    "Pros:\n",
    "- Offers interactive UI with many functionalities (e.g., filtering, sorting, correlations).\n",
    "- Allows for data transformations.\n",
    "\n",
    "Cons:\n",
    "- Web-based UI might not be everyone's preference.\n",
    "- May require a steeper learning curve due to its powerful and versatile nature.\n",
    "\n",
    "Documentation: https://pypi.org/project/dtale/"
   ]
  },
  {
   "cell_type": "code",
   "execution_count": null,
   "id": "1d54ee4c",
   "metadata": {},
   "outputs": [],
   "source": [
    "pip install dtale"
   ]
  },
  {
   "cell_type": "code",
   "execution_count": null,
   "id": "aea90639",
   "metadata": {},
   "outputs": [],
   "source": [
    "import dtale\n",
    "\n",
    "d = dtale.show(data)\n",
    "d.open_browser() #will open in browser tab"
   ]
  }
 ],
 "metadata": {
  "kernelspec": {
   "display_name": "Python 3 (ipykernel)",
   "language": "python",
   "name": "python3"
  },
  "language_info": {
   "codemirror_mode": {
    "name": "ipython",
    "version": 3
   },
   "file_extension": ".py",
   "mimetype": "text/x-python",
   "name": "python",
   "nbconvert_exporter": "python",
   "pygments_lexer": "ipython3",
   "version": "3.9.13"
  }
 },
 "nbformat": 4,
 "nbformat_minor": 5
}

{
 "cells": [
  {
   "cell_type": "markdown",
   "id": "deb8f175",
   "metadata": {},
   "source": [
    "# Auto EDA\n",
    "The decision to use auto EDA depends on:\n",
    "- specific needs of the project\n",
    "- size and complexity of the dataset\n",
    "- expertise of the user\n",
    "\n",
    "**Auto EDA** tools offer a quick and efficient way to get a broad overview of the data.\n",
    "<br> **Manual EDA** allows for more nuanced and detailed analysis."
   ]
  },
  {
   "cell_type": "code",
   "execution_count": null,
   "id": "40fb3c0b",
   "metadata": {},
   "outputs": [],
   "source": [
    "#import these packages to start\n",
    "import numpy as np\n",
    "import pandas as pd"
   ]
  },
  {
   "cell_type": "code",
   "execution_count": null,
   "id": "1db17f08",
   "metadata": {},
   "outputs": [],
   "source": [
    "#import your data from XLSX or CSV\n",
    "data = pd.read_excel('your_dataset.xlsx') #xlsx\n",
    "data = pd.read_csv('your_dataset.csv') #csv\n",
    "\n",
    "#skip to DataPrep section for how to install a test dataset"
   ]
  },
  {
   "cell_type": "markdown",
   "id": "690ba771",
   "metadata": {},
   "source": [
    "### YData Profiling (Formerly Pandas Profiling)\n",
    "Pros:\n",
    "- Comprehensive EDA report with just a single line of code.\n",
    "- Provides correlations, missing value statistics, and a lot more.\n",
    "- Interactive and visually pleasing output.\n",
    "\n",
    "Cons:\n",
    "- Can be very slow for large datasets.\n",
    "- Might produce extremely large reports for wide datasets.\n",
    "\n",
    "Documentation: https://pypi.org/project/ydata-profiling/"
   ]
  },
  {
   "cell_type": "code",
   "execution_count": null,
   "id": "ff9bf2b1",
   "metadata": {},
   "outputs": [],
   "source": [
    "pip install ydata-profiling"
   ]
  },
  {
   "cell_type": "code",
   "execution_count": null,
   "id": "c361cb1b",
   "metadata": {},
   "outputs": [],
   "source": [
    "from ydata_profiling import ProfileReport\n",
    "\n",
    "profile = ProfileReport(data, title=\"Profiling Report\")\n",
    "profile.to_notebook_iframe() #display within notebook\n",
    "profile.to_file(\"your_report.html\") #send to html file"
   ]
  },
  {
   "cell_type": "markdown",
   "id": "c5ea7a83",
   "metadata": {},
   "source": [
    "### Sweetviz\n",
    "Pros:\n",
    "- Generates visually appealing reports.\n",
    "- Can compare two datasets (e.g., training vs testing).\n",
    "- Handles large datasets better than YData Profiling.\n",
    "\n",
    "Cons:\n",
    "- Less detailed than YData Profiling.\n",
    "\n",
    "Documentation: https://pypi.org/project/sweetviz/"
   ]
  },
  {
   "cell_type": "code",
   "execution_count": null,
   "id": "e53151ba",
   "metadata": {},
   "outputs": [],
   "source": [
    "pip install sweetviz"
   ]
  },
  {
   "cell_type": "code",
   "execution_count": null,
   "id": "9479745e",
   "metadata": {},
   "outputs": [],
   "source": [
    "import sweetviz as sv\n",
    "\n",
    "report = sv.analyze(data)\n",
    "report.show_html('report.html') #will display in a seperate browser tab"
   ]
  },
  {
   "cell_type": "markdown",
   "id": "63661815",
   "metadata": {},
   "source": [
    "### DataPrep\n",
    "Pros:\n",
    "- Fast for large datasets.\n",
    "- Interactive visualizations.\n",
    "- Provides data cleaning and collection modules along with EDA.\n",
    "\n",
    "Cons:\n",
    "- Task-centric design may not offer the flexibility needed for all EDA tasks.\n",
    "- The ease of use might come at the cost of detailed customization options.\n",
    "\n",
    "Documentation: https://pypi.org/project/dataprep/"
   ]
  },
  {
   "cell_type": "code",
   "execution_count": null,
   "id": "8b881455",
   "metadata": {},
   "outputs": [],
   "source": [
    "pip install -U dataprep"
   ]
  },
  {
   "cell_type": "code",
   "execution_count": null,
   "id": "9dbeb6a4",
   "metadata": {},
   "outputs": [],
   "source": [
    "from dataprep.datasets import load_dataset #dataprep has a dataset repository you can test with\n",
    "from dataprep.eda import create_report\n",
    "\n",
    "data = load_dataset(\"titanic\")\n",
    "\n",
    "create_report(data).show_browser()"
   ]
  },
  {
   "cell_type": "markdown",
   "id": "ae5792f6",
   "metadata": {},
   "source": [
    "### D-Tale\n",
    "Pros:\n",
    "- Offers interactive UI with many functionalities (e.g., filtering, sorting, correlations).\n",
    "- Allows for data transformations.\n",
    "\n",
    "Cons:\n",
    "- Web-based UI might not be everyone's preference.\n",
    "- May require a steeper learning curve due to its powerful and versatile nature.\n",
    "\n",
    "Documentation: https://pypi.org/project/dtale/"
   ]
  },
  {
   "cell_type": "code",
   "execution_count": null,
   "id": "4e788092",
   "metadata": {},
   "outputs": [],
   "source": [
    "pip install dtale"
   ]
  },
  {
   "cell_type": "code",
   "execution_count": null,
   "id": "a01c866d",
   "metadata": {},
   "outputs": [],
   "source": [
    "import dtale\n",
    "\n",
    "d = dtale.show(data)\n",
    "d.open_browser() #will open in browser tab"
   ]
  },
  {
   "cell_type": "markdown",
   "id": "7a772af4",
   "metadata": {},
   "source": [
    "### AutoViz\n",
    "Pros:\n",
    "- Capable of handling datasets of any size with just a few lines of code.\n",
    "- Automatically visualizes data, making it accessible and user-friendly.\n",
    "\n",
    "Cons:\n",
    "- Non-interactive UI (unless you modify code, see documentation)\n",
    "- Geared toward more experienced Python users that are looking for an ability to customize or explore further.\n",
    "\n",
    "Documentation: https://pypi.org/project/autoviz/"
   ]
  },
  {
   "cell_type": "code",
   "execution_count": null,
   "id": "962a3625",
   "metadata": {},
   "outputs": [],
   "source": [
    "pip install autoviz"
   ]
  },
  {
   "cell_type": "code",
   "execution_count": null,
   "id": "98517973",
   "metadata": {},
   "outputs": [],
   "source": [
    "from autoviz import AutoViz_Class\n",
    "AV = AutoViz_Class()\n",
    "\n",
    "%matplotlib inline \n",
    "#AutoViz does not displays plots automatically. \n",
    "#You must perform %matplotlib inline just before you run AutoViz on your data.\n",
    "\n",
    "# Generate visualizations\n",
    "AV.AutoViz('synthetic_healthcare_dataset.csv') #loading a filename\n",
    "#dft = AV.AutoViz('', dfte = data) #loading a dataframe"
   ]
  },
  {
   "cell_type": "code",
   "execution_count": null,
   "id": "f282885a",
   "metadata": {},
   "outputs": [],
   "source": [
    "#data cleaning suggestions\n",
    "from autoviz import data_cleaning_suggestions\n",
    "data_cleaning_suggestions(data)"
   ]
  }
 ],
 "metadata": {
  "kernelspec": {
   "display_name": "Python 3 (ipykernel)",
   "language": "python",
   "name": "python3"
  },
  "language_info": {
   "codemirror_mode": {
    "name": "ipython",
    "version": 3
   },
   "file_extension": ".py",
   "mimetype": "text/x-python",
   "name": "python",
   "nbconvert_exporter": "python",
   "pygments_lexer": "ipython3",
   "version": "3.9.13"
  }
 },
 "nbformat": 4,
 "nbformat_minor": 5
}
